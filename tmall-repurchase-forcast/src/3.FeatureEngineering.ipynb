{
 "cells": [
  {
   "cell_type": "markdown",
   "source": [
    "## 工具导入"
   ],
   "metadata": {
    "collapsed": false
   },
   "id": "df1f04eb5a9e9502"
  },
  {
   "cell_type": "code",
   "outputs": [],
   "source": [
    "import pandas as pd\n",
    "import numpy as np\n",
    "import matplotlib.pyplot as plt\n",
    "import seaborn as sns\n",
    "from scipy import stats\n",
    "\n",
    "import gc\n",
    "from collections import Counter\n",
    "import copy\n",
    "\n",
    "import warnings\n",
    "warnings.filterwarnings(\"ignore\")\n",
    "\n",
    "%matplotlib inline"
   ],
   "metadata": {
    "collapsed": false,
    "ExecuteTime": {
     "end_time": "2024-01-26T01:48:02.415435700Z",
     "start_time": "2024-01-26T01:48:02.313709400Z"
    }
   },
   "id": "cc4668dc20766120",
   "execution_count": 2
  },
  {
   "cell_type": "markdown",
   "source": [
    "## 数据读取"
   ],
   "metadata": {
    "collapsed": false
   },
   "id": "d544712a12d0e5e2"
  },
  {
   "cell_type": "code",
   "outputs": [],
   "source": [
    "# 读取数据集\n",
    "test_data = pd.read_csv(\"../data/test_format1.csv\")\n",
    "train_data = pd.read_csv(\"../data/train_format1.csv\")\n",
    "user_info = pd.read_csv(\"../data/user_info_format1.csv\")\n",
    "user_log = pd.read_csv(\"../data/user_log_format1.csv\")"
   ],
   "metadata": {
    "collapsed": false,
    "ExecuteTime": {
     "end_time": "2024-01-26T01:48:27.060387900Z",
     "start_time": "2024-01-26T01:48:02.417430300Z"
    }
   },
   "id": "8902393587a17e27",
   "execution_count": 3
  },
  {
   "cell_type": "markdown",
   "source": [
    "## 数据压缩"
   ],
   "metadata": {
    "collapsed": false
   },
   "id": "9d7d78e31e668e1c"
  },
  {
   "cell_type": "markdown",
   "source": [
    "### 定义内存压缩方法"
   ],
   "metadata": {
    "collapsed": false
   },
   "id": "2f581cae848021fc"
  },
  {
   "cell_type": "code",
   "outputs": [],
   "source": [
    "def reduce_mem_usage(df, verbose=True):\n",
    "    start_mem = df.memory_usage().sum() / 1024**2\n",
    "    numerics = ['int16', 'int32', 'int64', 'float16', 'float32', 'float64']\n",
    "    \n",
    "    for col in df.columns:\n",
    "        col_type = df[col].dtypes\n",
    "        if col_type in numerics:\n",
    "            c_min = df[col].min()\n",
    "            c_max = df[col].max()\n",
    "            if str(col_type)[:3] == 'int':\n",
    "                if c_min > np.iinfo(np.int8).min and c_max < np.iinfo(np.int8).max:\n",
    "                    df[col] = df[col].astype(np.int8)\n",
    "                elif c_min > np.iinfo(np.int16).min and c_max < np.iinfo(np.int16).max:\n",
    "                    df[col] = df[col].astype(np.int16)\n",
    "                elif c_min > np.iinfo(np.int32).min and c_max > np.iinfo(np.int32).max:\n",
    "                    df[col] = df[col].astype(np.int32)\n",
    "                elif c_min > np.iinfo(np.int64).min and c_max > np.iinfo(np.int64).max:\n",
    "                    df[col] = df[col].astype(np.int64)\n",
    "            else:\n",
    "                if c_min > np.finfo(np.float16).min and c_max < np.finfo(np.float16).max:\n",
    "                    df[col] = df[col].astype(np.float16)\n",
    "                elif c_min > np.finfo(np.float32).min and c_max < np.finfo(np.float32).max:\n",
    "                    df[col] = df[col].astype(np.float32)\n",
    "                else:\n",
    "                    df[col] = df[col].astype(np.float64)\n",
    "\n",
    "    end_mem = df.memory_usage().sum() / 1024**2\n",
    "    print('Memory usage after optimization is: {:.2f} MB'.format(end_mem))\n",
    "    print('Decreased by {:1f}%'.format(100*(start_mem - end_mem)/start_mem))\n",
    "\n",
    "    return df\n"
   ],
   "metadata": {
    "collapsed": false,
    "ExecuteTime": {
     "end_time": "2024-01-26T01:48:28.633140400Z",
     "start_time": "2024-01-26T01:48:27.300688900Z"
    }
   },
   "id": "c43e3bf616bd5f53",
   "execution_count": 4
  },
  {
   "cell_type": "markdown",
   "source": [
    "### 内存压缩"
   ],
   "metadata": {
    "collapsed": false
   },
   "id": "95cfe3ba49c6a739"
  },
  {
   "cell_type": "code",
   "outputs": [
    {
     "name": "stdout",
     "output_type": "stream",
     "text": [
      "Memory usage after optimization is: 2.74 MB\n",
      "Decreased by 54.165525%\n",
      "Memory usage after optimization is: 4.49 MB\n",
      "Decreased by 24.999474%\n",
      "Memory usage after optimization is: 4.85 MB\n",
      "Decreased by 49.999352%\n",
      "Memory usage after optimization is: 1309.52 MB\n",
      "Decreased by 55.357140%\n"
     ]
    }
   ],
   "source": [
    "num_rows = None\n",
    "train_file = '../data/train_format1.csv'\n",
    "test_file = '../data/test_format1.csv'\n",
    "user_info_file = '../data/user_info_format1.csv'\n",
    "user_log_file = '../data/user_log_format.csv'\n",
    "\n",
    "train_data = reduce_mem_usage(train_data)\n",
    "test_data = reduce_mem_usage(test_data)\n",
    "\n",
    "user_info = reduce_mem_usage(user_info)\n",
    "user_log = reduce_mem_usage(user_log)"
   ],
   "metadata": {
    "collapsed": false,
    "ExecuteTime": {
     "end_time": "2024-01-26T01:48:38.239740600Z",
     "start_time": "2024-01-26T01:48:28.909279200Z"
    }
   },
   "id": "c2b30b07f750c881",
   "execution_count": 5
  },
  {
   "cell_type": "markdown",
   "source": [
    "### 查看压缩后的数据信息"
   ],
   "metadata": {
    "collapsed": false
   },
   "id": "b64fee3ef0978356"
  },
  {
   "cell_type": "code",
   "outputs": [
    {
     "name": "stdout",
     "output_type": "stream",
     "text": [
      "<class 'pandas.core.frame.DataFrame'>\n",
      "RangeIndex: 260864 entries, 0 to 260863\n",
      "Data columns (total 3 columns):\n",
      " #   Column       Non-Null Count   Dtype\n",
      "---  ------       --------------   -----\n",
      " 0   user_id      260864 non-null  int64\n",
      " 1   merchant_id  260864 non-null  int16\n",
      " 2   label        260864 non-null  int8 \n",
      "dtypes: int16(1), int64(1), int8(1)\n",
      "memory usage: 2.7 MB\n"
     ]
    }
   ],
   "source": [
    "train_data.info()"
   ],
   "metadata": {
    "collapsed": false,
    "ExecuteTime": {
     "end_time": "2024-01-26T01:48:38.392909900Z",
     "start_time": "2024-01-26T01:48:38.249744Z"
    }
   },
   "id": "32bc9d3e98f36e35",
   "execution_count": 6
  },
  {
   "cell_type": "code",
   "outputs": [
    {
     "name": "stdout",
     "output_type": "stream",
     "text": [
      "<class 'pandas.core.frame.DataFrame'>\n",
      "RangeIndex: 261477 entries, 0 to 261476\n",
      "Data columns (total 3 columns):\n",
      " #   Column       Non-Null Count   Dtype  \n",
      "---  ------       --------------   -----  \n",
      " 0   user_id      261477 non-null  int64  \n",
      " 1   merchant_id  261477 non-null  int16  \n",
      " 2   prob         0 non-null       float64\n",
      "dtypes: float64(1), int16(1), int64(1)\n",
      "memory usage: 4.5 MB\n"
     ]
    }
   ],
   "source": [
    "test_data.info()"
   ],
   "metadata": {
    "collapsed": false,
    "ExecuteTime": {
     "end_time": "2024-01-26T01:48:38.473924300Z",
     "start_time": "2024-01-26T01:48:38.392909900Z"
    }
   },
   "id": "193435edc37ed97d",
   "execution_count": 7
  },
  {
   "cell_type": "code",
   "outputs": [
    {
     "name": "stdout",
     "output_type": "stream",
     "text": [
      "<class 'pandas.core.frame.DataFrame'>\n",
      "RangeIndex: 424170 entries, 0 to 424169\n",
      "Data columns (total 3 columns):\n",
      " #   Column     Non-Null Count   Dtype  \n",
      "---  ------     --------------   -----  \n",
      " 0   user_id    424170 non-null  int64  \n",
      " 1   age_range  421953 non-null  float16\n",
      " 2   gender     417734 non-null  float16\n",
      "dtypes: float16(2), int64(1)\n",
      "memory usage: 4.9 MB\n"
     ]
    }
   ],
   "source": [
    "user_info.info()"
   ],
   "metadata": {
    "collapsed": false,
    "ExecuteTime": {
     "end_time": "2024-01-26T01:48:38.506836Z",
     "start_time": "2024-01-26T01:48:38.428816500Z"
    }
   },
   "id": "2c3b092bd806bd30",
   "execution_count": 8
  },
  {
   "cell_type": "code",
   "outputs": [
    {
     "name": "stdout",
     "output_type": "stream",
     "text": [
      "<class 'pandas.core.frame.DataFrame'>\n",
      "RangeIndex: 54925330 entries, 0 to 54925329\n",
      "Data columns (total 7 columns):\n",
      " #   Column       Dtype  \n",
      "---  ------       -----  \n",
      " 0   user_id      int64  \n",
      " 1   item_id      int64  \n",
      " 2   cat_id       int16  \n",
      " 3   seller_id    int16  \n",
      " 4   brand_id     float16\n",
      " 5   time_stamp   int16  \n",
      " 6   action_type  int8   \n",
      "dtypes: float16(1), int16(3), int64(2), int8(1)\n",
      "memory usage: 1.3 GB\n"
     ]
    }
   ],
   "source": [
    "user_log.info()"
   ],
   "metadata": {
    "collapsed": false,
    "ExecuteTime": {
     "end_time": "2024-01-26T01:48:38.507833200Z",
     "start_time": "2024-01-26T01:48:38.469069700Z"
    }
   },
   "id": "e79442c9dd40646d",
   "execution_count": 9
  },
  {
   "cell_type": "markdown",
   "source": [
    "## 数据处理"
   ],
   "metadata": {
    "collapsed": false
   },
   "id": "9447a83949867f18"
  },
  {
   "cell_type": "markdown",
   "source": [
    "### 合并用户信息"
   ],
   "metadata": {
    "collapsed": false
   },
   "id": "389a50ae2e4ccc6e"
  },
  {
   "cell_type": "code",
   "outputs": [
    {
     "data": {
      "text/plain": "78"
     },
     "execution_count": 10,
     "metadata": {},
     "output_type": "execute_result"
    }
   ],
   "source": [
    "all_data = train_data._append(test_data)\n",
    "all_data = all_data.merge(user_info, on=['user_id'], how='left')\n",
    "\n",
    "del train_data, test_data, user_info\n",
    "gc.collect()"
   ],
   "metadata": {
    "collapsed": false,
    "ExecuteTime": {
     "end_time": "2024-01-26T01:48:40.395222400Z",
     "start_time": "2024-01-26T01:48:38.479908Z"
    }
   },
   "id": "3d763c573cd23e8e",
   "execution_count": 10
  },
  {
   "cell_type": "markdown",
   "source": [
    "### 将用户行为日志信息按照时间排序"
   ],
   "metadata": {
    "collapsed": false
   },
   "id": "34c266cf9f2ad53a"
  },
  {
   "cell_type": "code",
   "outputs": [],
   "source": [
    "\"\"\"\n",
    "按照userid和时间戳排序\n",
    "\"\"\"\n",
    "user_log = user_log.sort_values(['user_id', 'time_stamp'])"
   ],
   "metadata": {
    "collapsed": false,
    "ExecuteTime": {
     "end_time": "2024-01-26T01:48:48.128320500Z",
     "start_time": "2024-01-26T01:48:40.395222400Z"
    }
   },
   "id": "2d4dca717667255d",
   "execution_count": 11
  },
  {
   "cell_type": "code",
   "outputs": [
    {
     "name": "stdout",
     "output_type": "stream",
     "text": [
      "<class 'pandas.core.frame.DataFrame'>\n",
      "Index: 54925330 entries, 23288890 to 13710715\n",
      "Data columns (total 7 columns):\n",
      " #   Column       Dtype  \n",
      "---  ------       -----  \n",
      " 0   user_id      int64  \n",
      " 1   item_id      int64  \n",
      " 2   cat_id       int16  \n",
      " 3   seller_id    int16  \n",
      " 4   brand_id     float16\n",
      " 5   time_stamp   int16  \n",
      " 6   action_type  int8   \n",
      "dtypes: float16(1), int16(3), int64(2), int8(1)\n",
      "memory usage: 1.7 GB\n"
     ]
    }
   ],
   "source": [
    "user_log.info()"
   ],
   "metadata": {
    "collapsed": false,
    "ExecuteTime": {
     "end_time": "2024-01-26T01:48:48.138407300Z",
     "start_time": "2024-01-26T01:48:48.133880700Z"
    }
   },
   "id": "445dd8cec1cb23a6",
   "execution_count": 12
  },
  {
   "cell_type": "code",
   "outputs": [],
   "source": [
    "\"\"\"\n",
    "对每个用户逐个合并所有字段，合并字段为item_id,cat_id,seller_id,brand_id,time_stamp,action_type\n",
    "\"\"\"\n",
    "# 将列表中的元素转换为字符串，并以空格分隔后连接起来。\n",
    "list_join_fun = lambda x: \" \".join([str(i) for i in x])\n",
    "\n",
    "agg_dict = {\n",
    "    'item_id': list_join_fun,\n",
    "    'cat_id': list_join_fun,\n",
    "    'seller_id': list_join_fun,\n",
    "    'brand_id': list_join_fun,\n",
    "    'time_stamp': list_join_fun,\n",
    "    'action_type': list_join_fun\n",
    "}\n",
    "\n",
    "rename_dict = {\n",
    "    'item_id': 'item_path',\n",
    "    'cat_id': 'cat_path',\n",
    "    'seller_id': 'seller_path',\n",
    "    'brand_id': 'brand_path',\n",
    "    'time_stamp': 'time_stamp_path',\n",
    "    'action_type': 'action_type_path'\n",
    "}\n",
    "\n",
    "def merge_list(df_ID, join_columns, df_data, agg_dict, rename_dict):\n",
    "    df_data = df_data.\\\n",
    "        groupby(join_columns).\\\n",
    "        agg(agg_dict).\\\n",
    "        reset_index().\\\n",
    "        rename(columns=rename_dict)\n",
    "    df_ID = df_ID.merge(df_data, on=join_columns, how='left')\n",
    "    return df_ID\n",
    "\n",
    "all_data = merge_list(all_data, 'user_id', user_log, agg_dict, rename_dict)"
   ],
   "metadata": {
    "collapsed": false,
    "ExecuteTime": {
     "end_time": "2024-01-26T01:50:34.276270500Z",
     "start_time": "2024-01-26T01:48:48.170293800Z"
    }
   },
   "id": "9a0b6eb2ac43c376",
   "execution_count": 13
  },
  {
   "cell_type": "markdown",
   "source": [
    "### 删除数据回收内存"
   ],
   "metadata": {
    "collapsed": false
   },
   "id": "65094c5feb3f0bb6"
  },
  {
   "cell_type": "code",
   "outputs": [
    {
     "data": {
      "text/plain": "0"
     },
     "execution_count": 14,
     "metadata": {},
     "output_type": "execute_result"
    }
   ],
   "source": [
    "del user_log\n",
    "gc.collect()"
   ],
   "metadata": {
    "collapsed": false,
    "ExecuteTime": {
     "end_time": "2024-01-26T01:50:34.368212200Z",
     "start_time": "2024-01-26T01:50:34.276270500Z"
    }
   },
   "id": "fb668eb85936bfea",
   "execution_count": 14
  },
  {
   "cell_type": "markdown",
   "source": [
    "## 定义特征统计函数"
   ],
   "metadata": {
    "collapsed": false
   },
   "id": "b2ec099948a262ae"
  },
  {
   "cell_type": "markdown",
   "source": [
    "### 定义统计函数"
   ],
   "metadata": {
    "collapsed": false
   },
   "id": "9ba6dfa30da17a7b"
  },
  {
   "cell_type": "code",
   "outputs": [],
   "source": [
    "\"\"\"\n",
    "定义统计数据总数的函数\n",
    "\"\"\"\n",
    "def cnt_(x):\n",
    "    try:\n",
    "        return len(x.split(' '))\n",
    "    except:\n",
    "        return -1"
   ],
   "metadata": {
    "collapsed": false,
    "ExecuteTime": {
     "end_time": "2024-01-26T01:50:34.377652900Z",
     "start_time": "2024-01-26T01:50:34.373154800Z"
    }
   },
   "id": "f56b6714761094a2",
   "execution_count": 15
  },
  {
   "cell_type": "code",
   "outputs": [],
   "source": [
    "\"\"\"\n",
    "定义统计数据唯一值总数的函数\n",
    "\"\"\"\n",
    "def nunique_(x):\n",
    "    try:\n",
    "        return len(set(x.split(' ')))\n",
    "    except:\n",
    "        return -1"
   ],
   "metadata": {
    "collapsed": false,
    "ExecuteTime": {
     "end_time": "2024-01-26T01:50:34.483535800Z",
     "start_time": "2024-01-26T01:50:34.383625700Z"
    }
   },
   "id": "3bb7eae8e91568a2",
   "execution_count": 16
  },
  {
   "cell_type": "code",
   "outputs": [],
   "source": [
    "\"\"\"\n",
    "定义统计数据最大值的函数\n",
    "\"\"\"\n",
    "def max_(x):\n",
    "    try:\n",
    "        return np.max([float(i) for i in x.split(' ')])\n",
    "    except:\n",
    "        return -1"
   ],
   "metadata": {
    "collapsed": false,
    "ExecuteTime": {
     "end_time": "2024-01-26T01:50:34.512451200Z",
     "start_time": "2024-01-26T01:50:34.387127100Z"
    }
   },
   "id": "80ff306c93b08ab2",
   "execution_count": 17
  },
  {
   "cell_type": "code",
   "outputs": [],
   "source": [
    "\"\"\"\n",
    "定义统计数据最小值的函数\n",
    "\"\"\"\n",
    "def min_(x):\n",
    "    try:\n",
    "        return np.min([float(i) for i in x.split(' ')])\n",
    "    except:\n",
    "        return -1"
   ],
   "metadata": {
    "collapsed": false,
    "ExecuteTime": {
     "end_time": "2024-01-26T01:50:34.515442Z",
     "start_time": "2024-01-26T01:50:34.395113800Z"
    }
   },
   "id": "aaffa197eeef4785",
   "execution_count": 18
  },
  {
   "cell_type": "code",
   "outputs": [],
   "source": [
    "\"\"\"\n",
    "定义统计数据标准差的函数\n",
    "\"\"\"\n",
    "def std_(x):\n",
    "    try:\n",
    "        return np.std([float(i) for i in x.split(' ')])\n",
    "    except:\n",
    "        return -1"
   ],
   "metadata": {
    "collapsed": false,
    "ExecuteTime": {
     "end_time": "2024-01-26T01:50:34.543395200Z",
     "start_time": "2024-01-26T01:50:34.400490600Z"
    }
   },
   "id": "8d5fcbadafc0287e",
   "execution_count": 19
  },
  {
   "cell_type": "code",
   "outputs": [],
   "source": [
    "\"\"\"\n",
    "定义统计数据中topN的数据的函数\n",
    "\"\"\"\n",
    "def most_n(x, n):\n",
    "    try:\n",
    "        return Counter(x.split(' ')).most_common(n)[n-1][0]\n",
    "    except:\n",
    "        return -1"
   ],
   "metadata": {
    "collapsed": false,
    "ExecuteTime": {
     "end_time": "2024-01-26T02:15:48.651759900Z",
     "start_time": "2024-01-26T02:15:48.644178400Z"
    }
   },
   "id": "1c907824ce010bed",
   "execution_count": 36
  },
  {
   "cell_type": "code",
   "outputs": [],
   "source": [
    "\"\"\"\n",
    "定义统计数据中topN数据总数的函数\n",
    "\"\"\"\n",
    "def most_n_cnt(x, n):\n",
    "    try:\n",
    "        return Counter(x.split(' ')).most_common(n)[n-1][1]\n",
    "    except:\n",
    "        return -1"
   ],
   "metadata": {
    "collapsed": false,
    "ExecuteTime": {
     "end_time": "2024-01-26T01:50:34.611180500Z",
     "start_time": "2024-01-26T01:50:34.425303200Z"
    }
   },
   "id": "6bcbd8dfd6da3447",
   "execution_count": 21
  },
  {
   "cell_type": "markdown",
   "source": [
    "### 调用定义的统计函数"
   ],
   "metadata": {
    "collapsed": false
   },
   "id": "512248bfd3eb019a"
  },
  {
   "cell_type": "code",
   "outputs": [],
   "source": [
    "def user_cnt(df_data, single_col, name):\n",
    "    df_data[name] = df_data[single_col].apply(cnt_)\n",
    "    return df_data\n",
    "\n",
    "def user_nunique(df_data, single_col, name):\n",
    "    df_data[name] = df_data[single_col].apply(nunique_)\n",
    "    return df_data\n",
    "\n",
    "def user_max(df_data, single_col, name):\n",
    "    df_data[name] = df_data[single_col].apply(max_)\n",
    "    return df_data\n",
    "\n",
    "def user_min(df_data, single_col, name):\n",
    "    df_data[name] = df_data[single_col].apply(min_)\n",
    "    return df_data\n",
    "\n",
    "def user_std(df_data, single_col, name):\n",
    "    df_data[name] = df_data[single_col].apply(std_)\n",
    "    return df_data\n",
    "\n",
    "def user_most_n(df_data, single_col, name, n=1):\n",
    "    func = lambda x : most_n(x, n)\n",
    "    df_data[name] = df_data[single_col].apply(func)\n",
    "    return df_data\n",
    "\n",
    "def user_most_n_cnt(df_data, single_col, name, n=1):\n",
    "    func = lambda x : most_n_cnt(x, n)\n",
    "    df_data[name] = df_data[single_col].apply(func)\n",
    "    return df_data"
   ],
   "metadata": {
    "collapsed": false,
    "ExecuteTime": {
     "end_time": "2024-01-26T02:15:52.457043400Z",
     "start_time": "2024-01-26T02:15:52.449181500Z"
    }
   },
   "id": "c1dc3099df441672",
   "execution_count": 37
  },
  {
   "cell_type": "markdown",
   "source": [
    "## 提取统计特征"
   ],
   "metadata": {
    "collapsed": false
   },
   "id": "9dc458435d0d1d7b"
  },
  {
   "cell_type": "markdown",
   "source": [
    "### 特征统计\n",
    "\n",
    "店铺特征统计"
   ],
   "metadata": {
    "collapsed": false
   },
   "id": "498130e15f92b14f"
  },
  {
   "cell_type": "code",
   "outputs": [],
   "source": [
    "\"\"\"\n",
    "提取基本统计特征\n",
    "\"\"\"\n",
    "all_data_test = all_data.head(2000)\n",
    "# 统计用户点击、浏览、加购、购买行为\n",
    "# 总次数\n",
    "all_data_test = user_cnt(all_data_test, 'seller_path', 'user_cnt')"
   ],
   "metadata": {
    "collapsed": false,
    "ExecuteTime": {
     "end_time": "2024-01-26T02:02:28.815439300Z",
     "start_time": "2024-01-26T02:02:28.810943100Z"
    }
   },
   "id": "c44965a850638894",
   "execution_count": 27
  },
  {
   "cell_type": "code",
   "outputs": [],
   "source": [
    "# 不同店铺的次数\n",
    "all_data_test = user_nunique(all_data_test, 'seller_path', 'seller_nunique')\n",
    "# 不同品类的个数\n",
    "all_data_test = user_nunique(all_data_test, 'cat_path', 'cat_nunique')\n",
    "# 不同品牌的个数\n",
    "all_data_test = user_nunique(all_data_test, 'brand_path', 'brand_nunique')\n",
    "# 不同商品的个数\n",
    "all_data_test = user_nunique(all_data_test, 'item_path', 'item_nunique')\n",
    "# 活跃天数\n",
    "all_data_test = user_nunique(all_data_test, 'time_stamp_path', 'time_stamp_nunique')\n",
    "# 不同用户行为种数\n",
    "all_data_test = user_nunique(all_data_test, 'action_type_path', 'action_type_nunique')"
   ],
   "metadata": {
    "collapsed": false,
    "ExecuteTime": {
     "end_time": "2024-01-26T02:02:32.199857600Z",
     "start_time": "2024-01-26T02:02:32.074119700Z"
    }
   },
   "id": "143ebd2379bfe27f",
   "execution_count": 28
  },
  {
   "cell_type": "code",
   "outputs": [],
   "source": [
    "# 最晚时间\n",
    "all_data_test = user_max(all_data_test, 'action_type_path', 'time_stamp_max')\n",
    "# 最早时间\n",
    "all_data_test = user_min(all_data_test, 'action_type_path', 'time_stamp_min')\n",
    "# 活跃天数方差\n",
    "all_data_test = user_std(all_data_test, 'action_type_path', 'time_stamp_std')\n",
    "# 最晚和最早相差天数\n",
    "all_data_test['time_stamp_range'] = all_data_test['time_stamp_max'] - all_data_test['time_stamp_min']"
   ],
   "metadata": {
    "collapsed": false,
    "ExecuteTime": {
     "end_time": "2024-01-26T02:07:55.842537300Z",
     "start_time": "2024-01-26T02:07:55.783263Z"
    }
   },
   "id": "879f82e631680234",
   "execution_count": 31
  },
  {
   "cell_type": "code",
   "outputs": [],
   "source": [
    "# 用户最喜欢的店铺\n",
    "all_data_test = user_most_n(all_data_test, 'seller_path', 'seller_most_1', n=1)\n",
    "# 最喜欢的类目\n",
    "all_data_test = user_most_n(all_data_test, 'cat_path', 'cat_most_1', n=1)\n",
    "# 最喜欢的品牌\n",
    "all_data_test = user_most_n(all_data_test, 'brand_path', 'brand_most_1', n=1)\n",
    "# 最常见的行为动作\n",
    "all_data_test = user_most_n(all_data_test, 'action_type_path', 'action_type_1', n=1)"
   ],
   "metadata": {
    "collapsed": false,
    "ExecuteTime": {
     "end_time": "2024-01-26T02:16:03.649891200Z",
     "start_time": "2024-01-26T02:16:03.503458700Z"
    }
   },
   "id": "c8a6dfd916bd38c0",
   "execution_count": 38
  },
  {
   "cell_type": "code",
   "outputs": [],
   "source": [
    "# 用户最喜欢的店铺的行为次数\n",
    "all_data_test = user_most_n_cnt(all_data_test, 'seller_path', 'seller_most_1_cnt', n=1)\n",
    "# 用户最喜欢的类目的行为次数\n",
    "all_data_test = user_most_n_cnt(all_data_test, 'cat_path', 'cat_most_1_cnt', n=1)\n",
    "# 用户最喜欢的品牌的行为次数\n",
    "all_data_test = user_most_n_cnt(all_data_test, 'brand_path', 'brand_most_1_cnt', n=1)\n",
    "# 用户最常见的行为动作的行为次数\n",
    "all_data_test = user_most_n_cnt(all_data_test, 'action_type_path', 'action_type_1_cnt', n=1)"
   ],
   "metadata": {
    "collapsed": false,
    "ExecuteTime": {
     "end_time": "2024-01-26T02:18:33.696833Z",
     "start_time": "2024-01-26T02:18:33.587579700Z"
    }
   },
   "id": "60a36b6c775a0c6b",
   "execution_count": 39
  },
  {
   "cell_type": "markdown",
   "source": [
    "用户特征统计"
   ],
   "metadata": {
    "collapsed": false
   },
   "id": "c7da80af46459617"
  },
  {
   "cell_type": "code",
   "outputs": [],
   "source": [
    "# 对点击、加购、购买、收藏分开统计\n",
    "def col_cnt_(df_data, columns_list, action_type):\n",
    "    try:\n",
    "        data_dict = {}\n",
    "        col_list = copy.deepcopy(columns_list)\n",
    "        if action_type != None:\n",
    "            col_list += ['action_type_path']\n",
    "        \n",
    "        for col in col_list:\n",
    "            data_dict[col] = df_data[col].split(' ')\n",
    "        \n",
    "        path_len = len(data_dict[col])\n",
    "        \n",
    "        data_out = []\n",
    "        for i_ in range(path_len):\n",
    "            data_txt = ''\n",
    "            for col_ in col_list:\n",
    "                if data_dict['action_type_path'][i_] == action_type:\n",
    "                    data_txt += '_' + data_dict[col_][i_]\n",
    "            data_out.append(data_txt)\n",
    "        \n",
    "        return len(data_out)\n",
    "    except:\n",
    "        return -1"
   ],
   "metadata": {
    "collapsed": false,
    "ExecuteTime": {
     "end_time": "2024-01-26T02:23:14.512066100Z",
     "start_time": "2024-01-26T02:23:14.508559800Z"
    }
   },
   "id": "37146d354dd652ca",
   "execution_count": 40
  },
  {
   "cell_type": "code",
   "outputs": [],
   "source": [
    "def col_nunique_(df_data, columns_list, action_type):\n",
    "    try:\n",
    "        data_dict = {}\n",
    "        \n",
    "        col_list = copy.deepcopy(columns_list)\n",
    "        if action_type is not None:\n",
    "            col_list += ['action_type_path']\n",
    "            \n",
    "        for col in col_list:\n",
    "            data_dict[col] = df_data[col].split(' ')\n",
    "        \n",
    "        path_len = len(data_dict[col])\n",
    "        \n",
    "        data_out = []\n",
    "        for i_ in range(path_len):\n",
    "            data_txt = ''\n",
    "            for col_ in columns_list:\n",
    "                if data_dict['action_type_path'][i_] == action_type:\n",
    "                    data_txt += '_' + data_dict[col_][i_]\n",
    "            data_out.append(data_txt)\n",
    "            \n",
    "        return len(set(data_out))\n",
    "    except:\n",
    "        return -1"
   ],
   "metadata": {
    "collapsed": false,
    "ExecuteTime": {
     "end_time": "2024-01-26T02:26:06.648847100Z",
     "start_time": "2024-01-26T02:26:06.630102100Z"
    }
   },
   "id": "83d8c18c42f4312f",
   "execution_count": 41
  },
  {
   "cell_type": "code",
   "outputs": [],
   "source": [
    "def user_col_cnt(df_data, columns_list, action_type, name):\n",
    "    df_data[name] = df_data.apply(lambda x: col_cnt_(x, columns_list, action_type), axis=1)\n",
    "    return df_data"
   ],
   "metadata": {
    "collapsed": false,
    "ExecuteTime": {
     "end_time": "2024-01-26T02:30:47.791373500Z",
     "start_time": "2024-01-26T02:30:47.780868500Z"
    }
   },
   "id": "71677e3a240716c2",
   "execution_count": 42
  },
  {
   "cell_type": "code",
   "outputs": [],
   "source": [
    "def user_col_nunique(df_data, columns_list, action_type, name):\n",
    "    df_data[name] = df_data.apply(lambda x: col_nunique_(x, columns_list, action_type), axis=1)\n",
    "    return df_data"
   ],
   "metadata": {
    "collapsed": false,
    "ExecuteTime": {
     "end_time": "2024-01-26T02:31:36.439180300Z",
     "start_time": "2024-01-26T02:31:36.418273100Z"
    }
   },
   "id": "2c43e16744b20816",
   "execution_count": 43
  },
  {
   "cell_type": "markdown",
   "source": [
    "统计用户和店铺的关系"
   ],
   "metadata": {
    "collapsed": false
   },
   "id": "6b48fa200de8a7e7"
  },
  {
   "cell_type": "code",
   "outputs": [],
   "source": [
    "# 点击次数\n",
    "all_data_test = user_col_cnt(all_data_test, ['seller_path'], '0', 'user_cnt_0')\n",
    "# 架构次数\n",
    "all_data_test = user_col_cnt(all_data_test, ['seller_path'], '1', 'user_cnt_1')\n",
    "# 购买次数\n",
    "all_data_test = user_col_cnt(all_data_test, ['seller_path'], '2', 'user_cnt_2')\n",
    "# 收藏次数\n",
    "all_data_test = user_col_cnt(all_data_test, ['seller_path'], '3', 'user_cnt_3')"
   ],
   "metadata": {
    "collapsed": false,
    "ExecuteTime": {
     "end_time": "2024-01-26T02:33:09.755160100Z",
     "start_time": "2024-01-26T02:33:09.300244500Z"
    }
   },
   "id": "fa10ada48ad009",
   "execution_count": 45
  },
  {
   "cell_type": "markdown",
   "source": [
    "### 特征组合"
   ],
   "metadata": {
    "collapsed": false
   },
   "id": "629bcf58d7933c9d"
  },
  {
   "cell_type": "code",
   "outputs": [],
   "source": [
    "# 点击次数\n",
    "all_data_test = user_col_cnt(all_data_test, ['seller_path', 'item_path'], '0', 'user_cnt_0')\n",
    "# 不同店铺数量\n",
    "all_data_test = user_col_nunique(all_data_test, ['seller_path', 'item_path'], '0', 'seller_nunique_0')"
   ],
   "metadata": {
    "collapsed": false,
    "ExecuteTime": {
     "end_time": "2024-01-26T02:34:53.879967900Z",
     "start_time": "2024-01-26T02:34:53.474656600Z"
    }
   },
   "id": "8e331d834a552634",
   "execution_count": 46
  },
  {
   "cell_type": "code",
   "outputs": [
    {
     "data": {
      "text/plain": "Index(['user_id', 'merchant_id', 'label', 'prob', 'age_range', 'gender',\n       'item_path', 'cat_path', 'seller_path', 'brand_path', 'time_stamp_path',\n       'action_type_path', 'user_cnt', 'seller_nunique', 'cat_nunique',\n       'brand_nunique', 'item_nunique', 'time_stamp_nunique',\n       'action_type_nunique', 'time_stamp_max', 'time_stamp_min',\n       'time_stamp_std', 'time_stamp_range', 'seller_most_1', 'cat_most_1',\n       'brand_most_1', 'action_type_1', 'seller_most_1_cnt', 'cat_most_1_cnt',\n       'brand_most_1_cnt', 'action_type_1_cnt', 'user_cnt_0', 'user_cnt_1',\n       'user_cnt_2', 'user_cnt_3', 'seller_nunique_0'],\n      dtype='object')"
     },
     "execution_count": 48,
     "metadata": {},
     "output_type": "execute_result"
    }
   ],
   "source": [
    "# 查看提取的特征\n",
    "all_data_test.columns"
   ],
   "metadata": {
    "collapsed": false,
    "ExecuteTime": {
     "end_time": "2024-01-26T02:35:02.810275900Z",
     "start_time": "2024-01-26T02:35:02.802998400Z"
    }
   },
   "id": "f6dc1268a9e8f11",
   "execution_count": 48
  },
  {
   "cell_type": "markdown",
   "source": [
    "## 利用CountVector和TF-IDF提取特征"
   ],
   "metadata": {
    "collapsed": false
   },
   "id": "e9883900c2a8cac2"
  },
  {
   "cell_type": "code",
   "outputs": [],
   "source": [
    "\"\"\"\n",
    "利用CountVector和TF-IDF提取特征\n",
    "\"\"\"\n",
    "\n",
    "from sklearn.feature_extraction.text import CountVectorizer\n",
    "from sklearn.feature_extraction.text import TfidfVectorizer\n",
    "\n",
    "# 书上这个位置过时了\n",
    "# from sklearn.feature_extraction.text import ENGLISH_STOP_WORDS\n",
    "from scipy import sparse"
   ],
   "metadata": {
    "collapsed": false,
    "ExecuteTime": {
     "end_time": "2024-01-26T02:52:08.373543600Z",
     "start_time": "2024-01-26T02:52:08.368049900Z"
    }
   },
   "id": "c9dc66a782c9d108",
   "execution_count": 51
  },
  {
   "cell_type": "code",
   "outputs": [],
   "source": [
    "tfidfVec = TfidfVectorizer(stop_words='english',\n",
    "                           ngram_range=(1, 1),\n",
    "                           max_features=100)\n",
    "column_list = ['seller_path']\n",
    "for i, col in enumerate(column_list):\n",
    "    tfidfVec.fit(all_data_test[col])\n",
    "    data_ = tfidfVec.transform(all_data_test[col])\n",
    "    if i == 0:\n",
    "        data_cat = data_\n",
    "    else:\n",
    "        data_cat = sparse.hstack((data_cat, data_))"
   ],
   "metadata": {
    "collapsed": false,
    "ExecuteTime": {
     "end_time": "2024-01-26T02:56:28.574613500Z",
     "start_time": "2024-01-26T02:56:28.076993Z"
    }
   },
   "id": "4d5ef1bd30a53499",
   "execution_count": 54
  },
  {
   "cell_type": "code",
   "outputs": [],
   "source": [
    "\"\"\"\n",
    "特征重命名和特征合并\n",
    "\"\"\"\n",
    "df_tfidf = pd.DataFrame(data_cat.toarray())\n",
    "df_tfidf.columns = ['tfidf_' + str(i) for i in df_tfidf.columns]\n",
    "all_data_test = pd.concat([all_data_test, df_tfidf], axis=1)"
   ],
   "metadata": {
    "collapsed": false,
    "ExecuteTime": {
     "end_time": "2024-01-26T02:58:27.825258800Z",
     "start_time": "2024-01-26T02:58:27.808853Z"
    }
   },
   "id": "2171d46831f28e77",
   "execution_count": 55
  },
  {
   "cell_type": "markdown",
   "source": [
    "## 嵌入特征"
   ],
   "metadata": {
    "collapsed": false
   },
   "id": "ac78272d00bc3b7a"
  },
  {
   "cell_type": "code",
   "outputs": [],
   "source": [
    "import gensim"
   ],
   "metadata": {
    "collapsed": false,
    "ExecuteTime": {
     "end_time": "2024-01-26T03:01:53.588921600Z",
     "start_time": "2024-01-26T03:01:53.499812700Z"
    }
   },
   "id": "6adfd6232193eaf9",
   "execution_count": 56
  },
  {
   "cell_type": "code",
   "outputs": [],
   "source": [
    "# 训练Word2Vec模型\n",
    "model = gensim.models.Word2Vec(\n",
    "    all_data_test['seller_path'].apply(lambda x: x.split(' ')),\n",
    "    vector_size=100,\n",
    "    window=5,\n",
    "    min_count=5,\n",
    "    workers=4\n",
    ")\n",
    "\n",
    "# model.save(\"product2vec.model\")\n",
    "# model = gensim .models.Word2Vec.load(\"product2vec.model\")"
   ],
   "metadata": {
    "collapsed": false,
    "ExecuteTime": {
     "end_time": "2024-01-26T04:04:08.705830100Z",
     "start_time": "2024-01-26T04:04:07.974789700Z"
    }
   },
   "id": "4c8ed0ff6f09e600",
   "execution_count": 57
  },
  {
   "cell_type": "code",
   "outputs": [],
   "source": [
    "def mean_w2v_(x, model, size=100):\n",
    "    try:\n",
    "        i=0\n",
    "        for word in x.split(' '):\n",
    "            if word in model.wv.vocab:\n",
    "                i += 1\n",
    "                if i == 1:\n",
    "                    vec = np.zeros(size)\n",
    "                vec += model.wv[word]\n",
    "        return vec / i\n",
    "    except:\n",
    "        return np.zeros(size)"
   ],
   "metadata": {
    "collapsed": false,
    "ExecuteTime": {
     "end_time": "2024-01-26T04:05:27.303829400Z",
     "start_time": "2024-01-26T04:05:27.274022Z"
    }
   },
   "id": "810c1c61a959640d",
   "execution_count": 58
  },
  {
   "cell_type": "code",
   "outputs": [],
   "source": [
    "def get_mean_w2v(df_data, columns, model, size):\n",
    "    data_array = []\n",
    "    for index, row in df_data.iterrows():\n",
    "        w2v = mean_w2v_(row[columns], model, size)\n",
    "        data_array.append(w2v)\n",
    "    return pd.DataFrame(data_array)"
   ],
   "metadata": {
    "collapsed": false,
    "ExecuteTime": {
     "end_time": "2024-01-26T04:07:41.485435600Z",
     "start_time": "2024-01-26T04:07:41.480282800Z"
    }
   },
   "id": "f1b487522e0fa515",
   "execution_count": 61
  },
  {
   "cell_type": "code",
   "outputs": [],
   "source": [
    "df_embeeding = get_mean_w2v(all_data_test, 'seller_path', model, 100)\n",
    "df_embeeding.columns = ['embeeding_' + str(i) for i in df_embeeding.columns]"
   ],
   "metadata": {
    "collapsed": false,
    "ExecuteTime": {
     "end_time": "2024-01-26T04:07:43.427032800Z",
     "start_time": "2024-01-26T04:07:43.279494500Z"
    }
   },
   "id": "be2adf538b5b491d",
   "execution_count": 62
  },
  {
   "cell_type": "code",
   "outputs": [],
   "source": [
    "# 嵌入特征和原始特征合并\n",
    "all_data_test = pd.concat([all_data_test, df_embeeding], axis=1)"
   ],
   "metadata": {
    "collapsed": false,
    "ExecuteTime": {
     "end_time": "2024-01-26T04:08:06.783673300Z",
     "start_time": "2024-01-26T04:08:06.760851500Z"
    }
   },
   "id": "84203b41a93877c2",
   "execution_count": 63
  },
  {
   "cell_type": "markdown",
   "source": [
    "## Stacking分类特征"
   ],
   "metadata": {
    "collapsed": false
   },
   "id": "998be8305294bde5"
  },
  {
   "cell_type": "markdown",
   "source": [
    "### Stacking特征工具包"
   ],
   "metadata": {
    "collapsed": false
   },
   "id": "d91f9948fbdb3a13"
  },
  {
   "cell_type": "code",
   "outputs": [],
   "source": [
    "from sklearn.model_selection import KFold\n",
    "\n",
    "import xgboost\n",
    "import lightgbm\n",
    "from sklearn.ensemble import RandomForestClassifier\n",
    "from sklearn.ensemble import AdaBoostClassifier\n",
    "from sklearn.ensemble import GradientBoostingClassifier\n",
    "from sklearn.ensemble import ExtraTreesClassifier\n",
    "\n",
    "from sklearn.ensemble import RandomForestRegressor\n",
    "from sklearn.ensemble import AdaBoostRegressor\n",
    "from sklearn.ensemble import GradientBoostingRegressor\n",
    "from sklearn.ensemble import ExtraTreesRegressor\n",
    "\n",
    "from sklearn.linear_model import LinearRegression\n",
    "from sklearn.linear_model import LogisticRegression\n",
    "\n",
    "from sklearn.svm import LinearSVC, SVC\n",
    "from sklearn.neighbors import KNeighborsClassifier\n",
    "\n",
    "from sklearn.metrics import log_loss\n",
    "from sklearn.metrics import mean_absolute_error\n",
    "from sklearn.metrics import mean_squared_error\n",
    "from sklearn.naive_bayes import MultinomialNB, GaussianNB"
   ],
   "metadata": {
    "collapsed": false,
    "ExecuteTime": {
     "end_time": "2024-01-26T04:18:46.442023100Z",
     "start_time": "2024-01-26T04:18:44.956836100Z"
    }
   },
   "id": "c6939606d60df46c",
   "execution_count": 67
  },
  {
   "cell_type": "markdown",
   "source": [
    "### 定义Stacking分类特征相关函数"
   ],
   "metadata": {
    "collapsed": false
   },
   "id": "7606cb2f9f97f832"
  },
  {
   "cell_type": "code",
   "outputs": [],
   "source": [
    "def stacking_clf(clf, train_x, train_y, test_x, clf_name, kf, label_split=None, folds=5):\n",
    "    \n",
    "    train = np.zeros((train_x.shape[0], 1))\n",
    "    test = np.zeros((test_x.shape[0], 1))\n",
    "    test_pre = np.empty((folds, test_x.shape[0], 1))\n",
    "    cv_scores = []\n",
    "    for i, (train_index, test_index) in enumerate(kf.split(train_x, label_split)):\n",
    "        tr_x = train_x[train_index]\n",
    "        tr_y = train_y[train_index]\n",
    "        te_x = train_x[test_index]\n",
    "        te_y = train_y[test_index]\n",
    "        \n",
    "        if clf_name in ['rf', 'ada', 'gb', 'et', 'lr', 'knn', 'gnb']:\n",
    "            clf.fit(tr_x, tr_y)\n",
    "            pre = clf.predict_proba(te_x)\n",
    "            \n",
    "            train[test_index] = pre[:, 0].reshape(-1, 1)\n",
    "            test_pre[i, :] = clf.predict_proba(test_x)[:, 0].reshape(-1, 1)\n",
    "            \n",
    "            cv_scores.append(log_loss(te_y, pre[:, 0].reshape(-1, 1)))\n",
    "            \n",
    "        elif clf_name in ['xgb']:\n",
    "            train_matrix = clf.DMatrix(tr_x, label=tr_y, missing=-1)\n",
    "            test_matrix = clf.DMatrix(te_x, label=te_y, missing=-1)\n",
    "            z = clf.DMatrix(test_x, label=te_y, missing=-1)\n",
    "            params = {\n",
    "                'booster': 'gbtree',\n",
    "                'objective': 'multi:softprob',\n",
    "                'eval_metric': 'mlogloss',\n",
    "                'gamma': 1,\n",
    "                'min_child_weight': 1.5,\n",
    "                'max_depth': 5,\n",
    "                'lambda': 10,\n",
    "                'subsample': 0.7,\n",
    "                'colsample_bytree': 0.7,\n",
    "                'colsample_bylevel': 0.7,\n",
    "                'eta': 0.03,\n",
    "                'tree_method': 'extract',\n",
    "                'seed': 2017,\n",
    "                'num_class': 2\n",
    "            }\n",
    "            \n",
    "            num_round = 10000\n",
    "            early_stopping_rounds = 100\n",
    "            watchlist = [(train_matrix, 'train'), (test_matrix, 'eval')]\n",
    "            if test_matrix:\n",
    "                model = clf.train(params, \n",
    "                                  num_boost_round=num_round,\n",
    "                                  evals=watchlist,\n",
    "                                  early_stopping_rounds=early_stopping_rounds)\n",
    "                pre = model.predict(test_matrix,\n",
    "                                    ntree_limit=model.best_ntree_limit)\n",
    "                train[test_index] = pre[:, 0].reshape(-1, 1)\n",
    "                test_pre[i, :] = model.predict(\n",
    "                    z,\n",
    "                    ntree_limit=model.best_ntree_limit)[:, 0].reshape(-1, 1)\n",
    "                cv_scores.append(log_loss(te_y, pre[:, 0].reshape(-1, 1)))\n",
    "                \n",
    "        elif clf_name in ['lgb']:\n",
    "            train_matrix = clf.Dataset(tr_x, label=tr_y)\n",
    "            test_matrix = clf.Dataset(te_x, label=te_y)\n",
    "            params = {\n",
    "                'boosting_type':'gbdt',\n",
    "                # 'boosting_type': 'dart',\n",
    "                'objective': 'multiclass',\n",
    "                'metric': 'multi_logloss',\n",
    "                'min_child_weight': 1.5,\n",
    "                'num_leaves': 2**5,\n",
    "                'lambda_12':10,\n",
    "                'subsample': 0.7,\n",
    "                'colsample_bytree': 0.7,\n",
    "                'colsample_bylevel': 0.7,\n",
    "                'learning_rate': 0.03,\n",
    "                'tree_method': 'exact',\n",
    "                'seed': 2017,\n",
    "                'num_class': 2,\n",
    "                'silent': True\n",
    "            }\n",
    "            # 下面的模型说不能使用early_stopping_rounds，因此我把num_round改成了10000，然后删除了early_stopping_rounds\n",
    "            num_round = 1000\n",
    "            early_stopping_rounds = 100\n",
    "            if test_matrix:\n",
    "                model = clf.train(params,\n",
    "                                  train_matrix,\n",
    "                                  num_boost_round=num_round,\n",
    "                                  early_stopping_rounds=early_stopping_rounds,\n",
    "                                  valid_sets=test_matrix)\n",
    "                pre = model.predict(te_x, num_iteration=model.best_iteration)\n",
    "                train[test_index] = pre[:,0].reshape(-1,1)\n",
    "                test_pre[i, :] = model.predict(\n",
    "                    test_x,\n",
    "                    num_iteraion=model.best_iteration)[:, 0].reshape(-1, 1)\n",
    "            cv_scores.append(log_loss(te_y, pre[:, 0].reshape(-1, 1)))\n",
    "        else:\n",
    "            raise IOError(\"Please add new clf.\")\n",
    "        print('%s now score is :' % clf_name, cv_scores)\n",
    "    test[:] = test_pre.mean(axis=0)\n",
    "    print('%s_score_list:' % clf_name, cv_scores)\n",
    "    print('%s_score_mean:' % clf_name, np.mean(cv_scores))\n",
    "    \n",
    "    return train.reshape(-1, 1), test.reshape(-1, 1)"
   ],
   "metadata": {
    "collapsed": false,
    "ExecuteTime": {
     "end_time": "2024-01-26T13:53:18.210317700Z",
     "start_time": "2024-01-26T13:53:18.202327700Z"
    }
   },
   "id": "b6ad421c22ab7394",
   "execution_count": 1
  },
  {
   "cell_type": "code",
   "outputs": [],
   "source": [
    "\"\"\"\n",
    "随机森林分类器\n",
    "\"\"\"\n",
    "def rf_clf(x_train, y_train, x_valid, kf, label_split=None):\n",
    "    randomforest = RandomForestClassifier(n_estimators=1200,\n",
    "                                          max_depth=20,\n",
    "                                          n_jobs=-1,\n",
    "                                          random_state=2017,\n",
    "                                          max_features='auto',\n",
    "                                          verbose=1)\n",
    "    \n",
    "    rf_train, rf_test = stacking_clf(randomforest,\n",
    "                                     x_train,\n",
    "                                     y_train,\n",
    "                                     x_valid,\n",
    "                                     'rf',\n",
    "                                     kf,\n",
    "                                     label_split=label_split)\n",
    "    return rf_train, rf_test, 'rf'"
   ],
   "metadata": {
    "collapsed": false,
    "ExecuteTime": {
     "end_time": "2024-01-26T07:24:55.580019700Z",
     "start_time": "2024-01-26T07:24:55.562785400Z"
    }
   },
   "id": "ccb2fc26e753721e",
   "execution_count": 70
  },
  {
   "cell_type": "code",
   "outputs": [],
   "source": [
    "\"\"\"\n",
    "ADABoost分类器\n",
    "\"\"\"\n",
    "def ada_clf(x_train, y_train, x_valid, kf, label_split=None):\n",
    "    \n",
    "    adaboost = AdaBoostClassifier(n_estimators=50,\n",
    "                                  random_state=2017,\n",
    "                                  learning_rate=0.01)\n",
    "    \n",
    "    ada_train, ada_test = stacking_clf(adaboost,\n",
    "                                       x_train,\n",
    "                                       y_train,\n",
    "                                       x_valid,\n",
    "                                       'ada',\n",
    "                                       kf,\n",
    "                                       label_split=label_split)\n",
    "    return ada_train, ada_test, 'ada'"
   ],
   "metadata": {
    "collapsed": false,
    "ExecuteTime": {
     "end_time": "2024-01-26T07:28:15.526218400Z",
     "start_time": "2024-01-26T07:28:15.522721600Z"
    }
   },
   "id": "e6173bff45879d9",
   "execution_count": 71
  },
  {
   "cell_type": "code",
   "outputs": [],
   "source": [
    "\"\"\"\n",
    "gbdt分类器\n",
    "\"\"\"\n",
    "def gb_clf(x_train, y_train, x_valid, kf, label_split=None):\n",
    "    gbdt = GradientBoostingClassifier(learning_rate=0.04,\n",
    "                                      n_estimators=100,\n",
    "                                      subsample=0.8,\n",
    "                                      random_state=2017,\n",
    "                                      max_depth=5,\n",
    "                                      verbose=1)\n",
    "    gbdt_train, gbdt_test = stacking_clf(gbdt,\n",
    "                                         x_train,\n",
    "                                         y_train,\n",
    "                                         x_valid,\n",
    "                                         'gb',\n",
    "                                         kf,\n",
    "                                         label_split=label_split)\n",
    "    return gbdt_train, gbdt_test, 'gb'"
   ],
   "metadata": {
    "collapsed": false,
    "ExecuteTime": {
     "end_time": "2024-01-26T07:33:35.845313500Z",
     "start_time": "2024-01-26T07:33:35.820007400Z"
    }
   },
   "id": "7d85860d4b3fab07",
   "execution_count": 72
  },
  {
   "cell_type": "code",
   "outputs": [],
   "source": [
    "\"\"\"\n",
    "extraTree分类器\n",
    "\"\"\"\n",
    "def et_clf(x_train, y_train, x_valid, kf, label_split=None):\n",
    "    extratree = ExtraTreesClassifier(n_estimators=1200,\n",
    "                                     max_depth=35,\n",
    "                                     max_features='auto',\n",
    "                                     n_jobs=-1,\n",
    "                                     random_state=2017,\n",
    "                                     verbose=1)\n",
    "    et_train, et_test = stacking_clf(extratree,\n",
    "                                     x_train,\n",
    "                                     y_train,\n",
    "                                     x_valid,\n",
    "                                     'et',\n",
    "                                     kf,\n",
    "                                     label_split=label_split)\n",
    "    return et_train, et_test, 'et'"
   ],
   "metadata": {
    "collapsed": false,
    "ExecuteTime": {
     "end_time": "2024-01-26T07:36:55.556095Z",
     "start_time": "2024-01-26T07:36:55.537145700Z"
    }
   },
   "id": "8d12f0525c316f82",
   "execution_count": 73
  },
  {
   "cell_type": "code",
   "outputs": [],
   "source": [
    "\"\"\"\n",
    "xgb分类器\n",
    "\"\"\"\n",
    "def xgb_clf(x_train, y_train, x_valid, kf, label_split=None):\n",
    "    xgb_train, xgb_test = stacking_clf(xgboost,\n",
    "                                       x_train,\n",
    "                                       y_train,\n",
    "                                       x_valid,\n",
    "                                       'xgb',\n",
    "                                       kf,\n",
    "                                       label_split=label_split)\n",
    "    return xgb_train, xgb_test, 'xgb'"
   ],
   "metadata": {
    "collapsed": false,
    "ExecuteTime": {
     "end_time": "2024-01-26T07:37:54.711376Z",
     "start_time": "2024-01-26T07:37:54.694092400Z"
    }
   },
   "id": "2813205d1431cb92",
   "execution_count": 74
  },
  {
   "cell_type": "code",
   "outputs": [],
   "source": [
    "\"\"\"\n",
    "lgb分类器\n",
    "\"\"\"\n",
    "def lgb_clf(x_train, y_train, x_valid, kf, label_split=None):\n",
    "    lgb_train, lgb_test = stacking_clf(lightgbm,\n",
    "                                       x_train,\n",
    "                                       y_train,\n",
    "                                       x_valid,\n",
    "                                       'lgb',\n",
    "                                       kf,\n",
    "                                       label_split=label_split)\n",
    "    return lgb_train, lgb_test, 'lgb'"
   ],
   "metadata": {
    "collapsed": false,
    "ExecuteTime": {
     "end_time": "2024-01-26T07:43:41.189280Z",
     "start_time": "2024-01-26T07:43:41.171651900Z"
    }
   },
   "id": "ff3259a785d0758d",
   "execution_count": 75
  },
  {
   "cell_type": "code",
   "outputs": [],
   "source": [
    "\"\"\"\n",
    "高斯朴素贝叶斯分类器\n",
    "\"\"\"\n",
    "def gnb_clf(x_train, y_train, x_valid, kf, label_split=None):\n",
    "    gnb = GaussianNB()\n",
    "    gnb_train, gnb_test =stacking_clf(gnb,\n",
    "                                      x_train,\n",
    "                                      y_train,\n",
    "                                      x_valid,\n",
    "                                      'gnb',\n",
    "                                      kf,\n",
    "                                      label_split=label_split)\n",
    "    return gnb_train, gnb_test, 'gnb'"
   ],
   "metadata": {
    "collapsed": false,
    "ExecuteTime": {
     "end_time": "2024-01-26T07:44:46.927409900Z",
     "start_time": "2024-01-26T07:44:46.909819700Z"
    }
   },
   "id": "f35cc729a62ab92a",
   "execution_count": 76
  },
  {
   "cell_type": "code",
   "outputs": [],
   "source": [
    "\"\"\"\n",
    "线性回归\n",
    "\"\"\"\n",
    "def lr_clf(x_train, y_train, x_valid, kf, label_split=None):\n",
    "    logisticRegression = LogisticRegression(n_jobs=-1,\n",
    "                                            random_state=2017,\n",
    "                                            C=0.01,\n",
    "                                            max_iter=200)\n",
    "    lr_train, lr_test = stacking_clf(logisticRegression,\n",
    "                                     x_train,\n",
    "                                     y_train,\n",
    "                                     x_valid,\n",
    "                                     'lr',\n",
    "                                     kf,\n",
    "                                     label_split=label_split)\n",
    "    return lr_train, lr_test, 'lr'"
   ],
   "metadata": {
    "collapsed": false,
    "ExecuteTime": {
     "end_time": "2024-01-26T07:46:35.565401100Z",
     "start_time": "2024-01-26T07:46:35.538161400Z"
    }
   },
   "id": "4f3c6b4d910ff280",
   "execution_count": 77
  },
  {
   "cell_type": "code",
   "outputs": [],
   "source": [
    "\"\"\"\n",
    "KNN分类器\n",
    "\"\"\"\n",
    "def knn_clf(x_train, y_train, x_valid, kf, label_split=None):\n",
    "    kneighbors = KNeighborsClassifier(n_neighbors=200, n_jobs=-1)\n",
    "    knn_train, knn_test = stacking_clf(kneighbors,\n",
    "                                       x_train,\n",
    "                                       y_train,\n",
    "                                       x_valid,\n",
    "                                       'lr',\n",
    "                                       kf,\n",
    "                                       label_split=label_split)\n",
    "    return knn_train, knn_test, 'knn'"
   ],
   "metadata": {
    "collapsed": false,
    "ExecuteTime": {
     "end_time": "2024-01-26T07:47:41.934675600Z",
     "start_time": "2024-01-26T07:47:41.917187Z"
    }
   },
   "id": "cd43ca2449a6450a",
   "execution_count": 78
  },
  {
   "cell_type": "markdown",
   "source": [
    "### 读取训练数据和验证数据"
   ],
   "metadata": {
    "collapsed": false
   },
   "id": "d002e2049f7c1686"
  },
  {
   "cell_type": "code",
   "outputs": [],
   "source": [
    "feature_columns = [\n",
    "    c for c in all_data_test.columns if c not in [\n",
    "        'label', 'prob', 'seller_path', 'cat_path', 'brand_path', 'action_type_path', 'item_path', 'time_stamp_path'\n",
    "    ]\n",
    "]\n",
    "\n",
    "x_train = all_data_test[\n",
    "    ~all_data_test['label'].isna()][feature_columns].values\n",
    "y_train = all_data_test[\n",
    "    ~all_data_test['label'].isna()]['label'].values\n",
    "x_valid = all_data_test[\n",
    "    all_data_test['label'].isna()][feature_columns].values"
   ],
   "metadata": {
    "collapsed": false,
    "ExecuteTime": {
     "end_time": "2024-01-26T07:52:32.217997200Z",
     "start_time": "2024-01-26T07:52:32.167581300Z"
    }
   },
   "id": "1d6a8ffedc741a8e",
   "execution_count": 79
  },
  {
   "cell_type": "code",
   "outputs": [],
   "source": [
    "def get_matrix(data):\n",
    "    where_are_nan = np.isnan(data)\n",
    "    where_are_inf = np.isinf(data)\n",
    "    data[where_are_inf] = 0\n",
    "    data[where_are_nan] = 0\n",
    "    return data\n",
    "\n",
    "x_train = np.float_(get_matrix(np.float_(x_train)))\n",
    "y_train = np.int_(y_train)\n",
    "x_valid = x_train"
   ],
   "metadata": {
    "collapsed": false,
    "ExecuteTime": {
     "end_time": "2024-01-26T07:55:43.536070800Z",
     "start_time": "2024-01-26T07:55:43.499194800Z"
    }
   },
   "id": "664bdc6e970ad820",
   "execution_count": 80
  },
  {
   "cell_type": "markdown",
   "source": [
    "### 使用lgb和xgb分类模型构造Stacking特征"
   ],
   "metadata": {
    "collapsed": false
   },
   "id": "ddafd818087192d4"
  },
  {
   "cell_type": "code",
   "outputs": [],
   "source": [
    "# 使用5折交叉验证\n",
    "from sklearn.model_selection import StratifiedKFold, KFold\n",
    "\n",
    "folds = 5\n",
    "seed = 1\n",
    "kf = KFold(n_splits=5, shuffle=True, random_state=0)"
   ],
   "metadata": {
    "collapsed": false,
    "ExecuteTime": {
     "end_time": "2024-01-26T08:16:33.815321800Z",
     "start_time": "2024-01-26T08:16:33.799351100Z"
    }
   },
   "id": "7875b15dc01289bb",
   "execution_count": 81
  },
  {
   "cell_type": "code",
   "outputs": [],
   "source": [
    "# 选择lgb和xgb分类模型作为基本模型\n",
    "\n",
    "clf_list = [lgb_clf, xgb_clf]\n",
    "clf_list_col = ['lgb_clf', 'xgb_clf']"
   ],
   "metadata": {
    "collapsed": false,
    "ExecuteTime": {
     "end_time": "2024-01-26T08:18:52.257238Z",
     "start_time": "2024-01-26T08:18:52.240749100Z"
    }
   },
   "id": "96cc1df664eea2a",
   "execution_count": 82
  },
  {
   "cell_type": "code",
   "outputs": [
    {
     "ename": "NameError",
     "evalue": "name 'clf_list' is not defined",
     "output_type": "error",
     "traceback": [
      "\u001B[1;31m---------------------------------------------------------------------------\u001B[0m",
      "\u001B[1;31mNameError\u001B[0m                                 Traceback (most recent call last)",
      "Cell \u001B[1;32mIn[2], line 7\u001B[0m\n\u001B[0;32m      4\u001B[0m train_data_list \u001B[38;5;241m=\u001B[39m []\n\u001B[0;32m      5\u001B[0m test_data_list \u001B[38;5;241m=\u001B[39m []\n\u001B[1;32m----> 7\u001B[0m \u001B[38;5;28;01mfor\u001B[39;00m clf \u001B[38;5;129;01min\u001B[39;00m clf_list:\n\u001B[0;32m      8\u001B[0m     train_data, test_data, clf_name \u001B[38;5;241m=\u001B[39m clf(x_train, y_train, x_valid, kf, label_split\u001B[38;5;241m=\u001B[39m\u001B[38;5;28;01mNone\u001B[39;00m)\n\u001B[0;32m      9\u001B[0m     train_data_list\u001B[38;5;241m.\u001B[39mappend(train_data)\n",
      "\u001B[1;31mNameError\u001B[0m: name 'clf_list' is not defined"
     ]
    }
   ],
   "source": [
    "# 获取stacking特征\n",
    "\n",
    "column_list = []\n",
    "train_data_list = []\n",
    "test_data_list = []\n",
    "\n",
    "for clf in clf_list:\n",
    "    train_data, test_data, clf_name = clf(x_train, y_train, x_valid, kf, label_split=None)\n",
    "    train_data_list.append(train_data)\n",
    "    test_data_list.append(test_data)\n",
    "\n",
    "train_stacking = np.concatenate(train_data_list, axis=1)\n",
    "test_stacking = np.concatenate(test_data_list, axis=1)"
   ],
   "metadata": {
    "collapsed": false,
    "ExecuteTime": {
     "end_time": "2024-01-26T13:53:19.019079300Z",
     "start_time": "2024-01-26T13:53:18.207298400Z"
    }
   },
   "id": "1c84682b68d121ad",
   "execution_count": 2
  },
  {
   "cell_type": "markdown",
   "source": [
    "### 原始特征和Stacking特征合并"
   ],
   "metadata": {
    "collapsed": false
   },
   "id": "4d981047dc7d4fa2"
  },
  {
   "cell_type": "code",
   "outputs": [
    {
     "ename": "NameError",
     "evalue": "name 'train_stacking' is not defined",
     "output_type": "error",
     "traceback": [
      "\u001B[1;31m---------------------------------------------------------------------------\u001B[0m",
      "\u001B[1;31mNameError\u001B[0m                                 Traceback (most recent call last)",
      "Cell \u001B[1;32mIn[98], line 2\u001B[0m\n\u001B[0;32m      1\u001B[0m \u001B[38;5;66;03m# 合并特征\u001B[39;00m\n\u001B[1;32m----> 2\u001B[0m train \u001B[38;5;241m=\u001B[39m pd\u001B[38;5;241m.\u001B[39mDataFrame(np\u001B[38;5;241m.\u001B[39mconcatenate([x_train, train_stacking], axis\u001B[38;5;241m=\u001B[39m\u001B[38;5;241m1\u001B[39m))\n\u001B[0;32m      3\u001B[0m test \u001B[38;5;241m=\u001B[39m np\u001B[38;5;241m.\u001B[39mconcatenate([x_valid, test_stacking], axis\u001B[38;5;241m=\u001B[39m\u001B[38;5;241m1\u001B[39m)\n",
      "\u001B[1;31mNameError\u001B[0m: name 'train_stacking' is not defined"
     ]
    }
   ],
   "source": [
    "# 合并特征\n",
    "train = pd.DataFrame(np.concatenate([x_train, train_stacking], axis=1))\n",
    "test = np.concatenate([x_valid, test_stacking], axis=1)"
   ],
   "metadata": {
    "collapsed": false,
    "ExecuteTime": {
     "end_time": "2024-01-26T13:22:00.358042600Z",
     "start_time": "2024-01-26T13:22:00.326639800Z"
    }
   },
   "id": "fb8a9b0f56fbe2cb",
   "execution_count": 98
  },
  {
   "cell_type": "code",
   "outputs": [],
   "source": [
    "# 特征重命名\n",
    "df_train_all = pd.DataFrame(train)\n",
    "df_train_all.columns = features_columns + clf_list_col\n",
    "df_test_all = pd.DataFrame(test)\n",
    "df_test_all.columns = feature_columns + clf_list_col"
   ],
   "metadata": {
    "collapsed": false
   },
   "id": "58ce7f50d6f7334c"
  },
  {
   "cell_type": "code",
   "outputs": [
    {
     "ename": "NameError",
     "evalue": "name 'df_train_all' is not defined",
     "output_type": "error",
     "traceback": [
      "\u001B[1;31m---------------------------------------------------------------------------\u001B[0m",
      "\u001B[1;31mNameError\u001B[0m                                 Traceback (most recent call last)",
      "Cell \u001B[1;32mIn[85], line 2\u001B[0m\n\u001B[0;32m      1\u001B[0m \u001B[38;5;66;03m# 获取数据ID及特征标签label\u001B[39;00m\n\u001B[1;32m----> 2\u001B[0m df_train_all[\u001B[38;5;124m'\u001B[39m\u001B[38;5;124muser_id\u001B[39m\u001B[38;5;124m'\u001B[39m] \u001B[38;5;241m=\u001B[39m all_data_test[\u001B[38;5;241m~\u001B[39mall_data_test[\u001B[38;5;124m'\u001B[39m\u001B[38;5;124mlabel\u001B[39m\u001B[38;5;124m'\u001B[39m]\u001B[38;5;241m.\u001B[39misna()][\u001B[38;5;124m'\u001B[39m\u001B[38;5;124muser_id\u001B[39m\u001B[38;5;124m'\u001B[39m]\n\u001B[0;32m      3\u001B[0m df_test_all[\u001B[38;5;124m'\u001B[39m\u001B[38;5;124muser_id\u001B[39m\u001B[38;5;124m'\u001B[39m] \u001B[38;5;241m=\u001B[39m all_data_test[all_data_test[\u001B[38;5;124m'\u001B[39m\u001B[38;5;124mlabel\u001B[39m\u001B[38;5;124m'\u001B[39m]\u001B[38;5;241m.\u001B[39misna()][\u001B[38;5;124m'\u001B[39m\u001B[38;5;124muser_id\u001B[39m\u001B[38;5;124m'\u001B[39m] \n\u001B[0;32m      4\u001B[0m df_train_all[\u001B[38;5;124m'\u001B[39m\u001B[38;5;124mlabel\u001B[39m\u001B[38;5;124m'\u001B[39m] \u001B[38;5;241m=\u001B[39m all_data_test[\u001B[38;5;241m~\u001B[39mall_data_test[\u001B[38;5;124m'\u001B[39m\u001B[38;5;124mlabel\u001B[39m\u001B[38;5;124m'\u001B[39m]\u001B[38;5;241m.\u001B[39misna()][\u001B[38;5;124m'\u001B[39m\u001B[38;5;124mlabel\u001B[39m\u001B[38;5;124m'\u001B[39m]\n",
      "\u001B[1;31mNameError\u001B[0m: name 'df_train_all' is not defined"
     ]
    }
   ],
   "source": [
    "# 获取数据ID及特征标签label\n",
    "df_train_all['user_id'] = all_data_test[~all_data_test['label'].isna()]['user_id']\n",
    "df_test_all['user_id'] = all_data_test[all_data_test['label'].isna()]['user_id'] \n",
    "df_train_all['label'] = all_data_test[~all_data_test['label'].isna()]['label']"
   ],
   "metadata": {
    "collapsed": false,
    "ExecuteTime": {
     "end_time": "2024-01-26T08:26:59.774022700Z",
     "start_time": "2024-01-26T08:26:59.741684100Z"
    }
   },
   "id": "adb9fae12e81a67",
   "execution_count": 85
  },
  {
   "cell_type": "markdown",
   "source": [
    "### 保存特征"
   ],
   "metadata": {
    "collapsed": false
   },
   "id": "9edfd0676a5407bc"
  },
  {
   "cell_type": "code",
   "outputs": [],
   "source": [
    "df_train_all.to_csv('train_all.csv', header=True, index=False)\n",
    "df_test_all.to_csv('test_all.csv', header=True, index=False)"
   ],
   "metadata": {
    "collapsed": false
   },
   "id": "ac40ff3a879955da"
  }
 ],
 "metadata": {
  "kernelspec": {
   "display_name": "Python 3",
   "language": "python",
   "name": "python3"
  },
  "language_info": {
   "codemirror_mode": {
    "name": "ipython",
    "version": 2
   },
   "file_extension": ".py",
   "mimetype": "text/x-python",
   "name": "python",
   "nbconvert_exporter": "python",
   "pygments_lexer": "ipython2",
   "version": "2.7.6"
  }
 },
 "nbformat": 4,
 "nbformat_minor": 5
}
